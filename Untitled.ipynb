{
 "cells": [
  {
   "cell_type": "code",
   "execution_count": 1,
   "id": "45dc3da4-942b-433f-8232-ad4ad5cf9adf",
   "metadata": {},
   "outputs": [
    {
     "name": "stdout",
     "output_type": "stream",
     "text": [
      "Defaulting to user installation because normal site-packages is not writeable\n",
      "Requirement already satisfied: opencv-python in c:\\users\\mannansayed\\appdata\\roaming\\python\\python312\\site-packages (4.11.0.86)\n",
      "Requirement already satisfied: numpy in c:\\users\\mannansayed\\appdata\\roaming\\python\\python312\\site-packages (2.1.3)\n",
      "Requirement already satisfied: scikit-image in c:\\users\\mannansayed\\appdata\\roaming\\python\\python312\\site-packages (0.25.2)\n",
      "Requirement already satisfied: scipy>=1.11.4 in c:\\users\\mannansayed\\appdata\\roaming\\python\\python312\\site-packages (from scikit-image) (1.15.2)\n",
      "Requirement already satisfied: networkx>=3.0 in c:\\users\\mannansayed\\appdata\\roaming\\python\\python312\\site-packages (from scikit-image) (3.4.2)\n",
      "Requirement already satisfied: pillow>=10.1 in c:\\users\\mannansayed\\appdata\\roaming\\python\\python312\\site-packages (from scikit-image) (11.1.0)\n",
      "Requirement already satisfied: imageio!=2.35.0,>=2.33 in c:\\users\\mannansayed\\appdata\\roaming\\python\\python312\\site-packages (from scikit-image) (2.37.0)\n",
      "Requirement already satisfied: tifffile>=2022.8.12 in c:\\users\\mannansayed\\appdata\\roaming\\python\\python312\\site-packages (from scikit-image) (2025.3.13)\n",
      "Requirement already satisfied: packaging>=21 in c:\\users\\mannansayed\\appdata\\roaming\\python\\python312\\site-packages (from scikit-image) (24.2)\n",
      "Requirement already satisfied: lazy-loader>=0.4 in c:\\users\\mannansayed\\appdata\\roaming\\python\\python312\\site-packages (from scikit-image) (0.4)\n",
      "Note: you may need to restart the kernel to use updated packages.\n"
     ]
    }
   ],
   "source": [
    "pip install opencv-python numpy scikit-image"
   ]
  },
  {
   "cell_type": "code",
   "execution_count": null,
   "id": "c1e4d404-c0d0-4ead-b84f-7d2bbe65c05f",
   "metadata": {},
   "outputs": [
    {
     "name": "stdout",
     "output_type": "stream",
     "text": [
      "PSNR (dB): 36.81\n",
      "SSIM: 0.9344\n"
     ]
    }
   ],
   "source": [
    "import cv2\n",
    "import numpy as np\n",
    "from skimage.metrics import peak_signal_noise_ratio, structural_similarity\n",
    "import os\n",
    "\n",
    "# 1. Load grayscale image\n",
    "original = cv2.imread('input_image.jpg', cv2.IMREAD_GRAYSCALE)\n",
    "\n",
    "if original is None:\n",
    "    print(\"Error: Image not found. Please check the path or file name.\")\n",
    "    exit()\n",
    "\n",
    "# 2. Add salt and pepper noise\n",
    "def add_salt_pepper_noise(image, prob):\n",
    "    noisy_image = np.copy(image)\n",
    "    black = 0\n",
    "    white = 255\n",
    "    noise = np.random.rand(*image.shape)\n",
    "    noisy_image[noise < prob] = black\n",
    "    noisy_image[noise > 1 - prob] = white\n",
    "    return noisy_image\n",
    "\n",
    "noisy_image = add_salt_pepper_noise(original, 0.05)\n",
    "\n",
    "# 3. Apply Median Filter for Denoising\n",
    "denoised_image = cv2.medianBlur(noisy_image, 3)\n",
    "\n",
    "# 4. Evaluation Metrics: PSNR and SSIM\n",
    "psnr_value = peak_signal_noise_ratio(original, denoised_image)\n",
    "ssim_value = structural_similarity(original, denoised_image)\n",
    "\n",
    "print(f\"PSNR (dB): {psnr_value:.2f}\")\n",
    "print(f\"SSIM: {ssim_value:.4f}\")\n",
    "\n",
    "# 5. Save results\n",
    "os.makedirs(\"outputs\", exist_ok=True)\n",
    "cv2.imwrite(\"outputs/noisy_image.jpg\", noisy_image)\n",
    "cv2.imwrite(\"outputs/denoised_image.jpg\", denoised_image)\n",
    "\n",
    "# 6. Display images (optional)\n",
    "cv2.imshow(\"Original Image\", original)\n",
    "cv2.imshow(\"Noisy Image\", noisy_image)\n",
    "cv2.imshow(\"Denoised Image\", denoised_image)\n",
    "cv2.waitKey(0)\n",
    "cv2.destroyAllWindows()\n"
   ]
  },
  {
   "cell_type": "code",
   "execution_count": null,
   "id": "41ed70a4-ce7d-4d2c-b9ff-fcb488967336",
   "metadata": {},
   "outputs": [],
   "source": []
  }
 ],
 "metadata": {
  "kernelspec": {
   "display_name": "Python 3 (ipykernel)",
   "language": "python",
   "name": "python3"
  },
  "language_info": {
   "codemirror_mode": {
    "name": "ipython",
    "version": 3
   },
   "file_extension": ".py",
   "mimetype": "text/x-python",
   "name": "python",
   "nbconvert_exporter": "python",
   "pygments_lexer": "ipython3",
   "version": "3.12.9"
  }
 },
 "nbformat": 4,
 "nbformat_minor": 5
}
